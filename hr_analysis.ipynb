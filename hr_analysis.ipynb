{
 "cells": [
  {
   "cell_type": "code",
   "execution_count": 339,
   "metadata": {},
   "outputs": [],
   "source": [
    "import pymysql\n",
    "import pandas as pd\n",
    "import matplotlib.pyplot as plt\n",
    "plt.rcParams['figure.figsize'] = [10,5]\n",
    "import seaborn as sns\n",
    "%matplotlib inline"
   ]
  },
  {
   "cell_type": "code",
   "execution_count": 340,
   "metadata": {},
   "outputs": [],
   "source": [
    "conn=pymysql.connect(host='localhost',port=int(3306),user='root',passwd='123456789',db='employees')"
   ]
  },
  {
   "cell_type": "code",
   "execution_count": 341,
   "metadata": {},
   "outputs": [
    {
     "data": {
      "text/html": [
       "<div>\n",
       "<style scoped>\n",
       "    .dataframe tbody tr th:only-of-type {\n",
       "        vertical-align: middle;\n",
       "    }\n",
       "\n",
       "    .dataframe tbody tr th {\n",
       "        vertical-align: top;\n",
       "    }\n",
       "\n",
       "    .dataframe thead th {\n",
       "        text-align: right;\n",
       "    }\n",
       "</style>\n",
       "<table border=\"1\" class=\"dataframe\">\n",
       "  <thead>\n",
       "    <tr style=\"text-align: right;\">\n",
       "      <th></th>\n",
       "      <th>calendar_year</th>\n",
       "      <th>dept_name</th>\n",
       "      <th>gender</th>\n",
       "      <th>average_salary</th>\n",
       "    </tr>\n",
       "  </thead>\n",
       "  <tbody>\n",
       "    <tr>\n",
       "      <th>0</th>\n",
       "      <td>1990</td>\n",
       "      <td>Customer Service</td>\n",
       "      <td>F</td>\n",
       "      <td>52477.0</td>\n",
       "    </tr>\n",
       "    <tr>\n",
       "      <th>1</th>\n",
       "      <td>1991</td>\n",
       "      <td>Customer Service</td>\n",
       "      <td>F</td>\n",
       "      <td>53362.0</td>\n",
       "    </tr>\n",
       "    <tr>\n",
       "      <th>2</th>\n",
       "      <td>1992</td>\n",
       "      <td>Customer Service</td>\n",
       "      <td>F</td>\n",
       "      <td>54433.0</td>\n",
       "    </tr>\n",
       "    <tr>\n",
       "      <th>3</th>\n",
       "      <td>1993</td>\n",
       "      <td>Customer Service</td>\n",
       "      <td>F</td>\n",
       "      <td>55642.0</td>\n",
       "    </tr>\n",
       "    <tr>\n",
       "      <th>4</th>\n",
       "      <td>1994</td>\n",
       "      <td>Customer Service</td>\n",
       "      <td>F</td>\n",
       "      <td>56575.0</td>\n",
       "    </tr>\n",
       "    <tr>\n",
       "      <th>...</th>\n",
       "      <td>...</td>\n",
       "      <td>...</td>\n",
       "      <td>...</td>\n",
       "      <td>...</td>\n",
       "    </tr>\n",
       "    <tr>\n",
       "      <th>157</th>\n",
       "      <td>1994</td>\n",
       "      <td>Sales</td>\n",
       "      <td>F</td>\n",
       "      <td>78599.0</td>\n",
       "    </tr>\n",
       "    <tr>\n",
       "      <th>158</th>\n",
       "      <td>1987</td>\n",
       "      <td>Sales</td>\n",
       "      <td>M</td>\n",
       "      <td>72055.0</td>\n",
       "    </tr>\n",
       "    <tr>\n",
       "      <th>159</th>\n",
       "      <td>1988</td>\n",
       "      <td>Sales</td>\n",
       "      <td>M</td>\n",
       "      <td>72993.0</td>\n",
       "    </tr>\n",
       "    <tr>\n",
       "      <th>160</th>\n",
       "      <td>1986</td>\n",
       "      <td>Sales</td>\n",
       "      <td>F</td>\n",
       "      <td>71480.0</td>\n",
       "    </tr>\n",
       "    <tr>\n",
       "      <th>161</th>\n",
       "      <td>1985</td>\n",
       "      <td>Sales</td>\n",
       "      <td>F</td>\n",
       "      <td>70355.0</td>\n",
       "    </tr>\n",
       "  </tbody>\n",
       "</table>\n",
       "<p>162 rows × 4 columns</p>\n",
       "</div>"
      ],
      "text/plain": [
       "     calendar_year         dept_name gender  average_salary\n",
       "0             1990  Customer Service      F         52477.0\n",
       "1             1991  Customer Service      F         53362.0\n",
       "2             1992  Customer Service      F         54433.0\n",
       "3             1993  Customer Service      F         55642.0\n",
       "4             1994  Customer Service      F         56575.0\n",
       "..             ...               ...    ...             ...\n",
       "157           1994             Sales      F         78599.0\n",
       "158           1987             Sales      M         72055.0\n",
       "159           1988             Sales      M         72993.0\n",
       "160           1986             Sales      F         71480.0\n",
       "161           1985             Sales      F         70355.0\n",
       "\n",
       "[162 rows x 4 columns]"
      ]
     },
     "execution_count": 341,
     "metadata": {},
     "output_type": "execute_result"
    }
   ],
   "source": [
    "df1=pd.read_sql_query(\"\"\"\n",
    "SELECT \n",
    "    YEAR(s.from_date) AS calendar_year,\n",
    "    d.dept_name,\n",
    "    e.gender,\n",
    "    ROUND(AVG(s.salary), 0) AS average_salary\n",
    "FROM\n",
    "    salaries s\n",
    "        JOIN\n",
    "    employees e ON e.emp_no = s.emp_no\n",
    "        JOIN\n",
    "    dept_emp de ON e.emp_no = de.emp_no\n",
    "        JOIN\n",
    "    departments d ON de.dept_no = d.dept_no\n",
    "GROUP BY 1 , 2\n",
    "HAVING calendar_year <=2002; \n",
    "\"\"\"\n",
    ",conn)\n",
    "\n",
    "df1"
   ]
  },
  {
   "cell_type": "code",
   "execution_count": 342,
   "metadata": {},
   "outputs": [
    {
     "data": {
      "text/plain": [
       "Text(0.5, 1.0, 'Average Salary per Department by Gender')"
      ]
     },
     "execution_count": 342,
     "metadata": {},
     "output_type": "execute_result"
    },
    {
     "data": {
      "image/png": "[encoded data removed]",
      "text/plain": [
       "<Figure size 432x288 with 1 Axes>"
      ]
     },
     "metadata": {
      "needs_background": "light"
     },
     "output_type": "display_data"
    }
   ],
   "source": [
    "sns.barplot(data=df1, x='average_salary', y='dept_name', hue='gender', palette='pastel', ci = None, orient = 'h').set_title('Average Salary per Department by Gender')"
   ]
  },
  {
   "cell_type": "code",
   "execution_count": 343,
   "metadata": {},
   "outputs": [
    {
     "data": {
      "text/plain": [
       "Text(0.5, 1.0, 'Salary Trend by Gender')"
      ]
     },
     "execution_count": 343,
     "metadata": {},
     "output_type": "execute_result"
    },
    {
     "data": {
      "image/png": "[encoded data removed]",
      "text/plain": [
       "<Figure size 432x288 with 1 Axes>"
      ]
     },
     "metadata": {
      "needs_background": "light"
     },
     "output_type": "display_data"
    }
   ],
   "source": [
    "sns.lineplot(data=df1, x='calendar_year', y='average_salary', hue='gender', palette='pastel', ci = None, linewidth=3).set_title('Salary Trend by Gender')"
   ]
  },
  {
   "cell_type": "code",
   "execution_count": 344,
   "metadata": {},
   "outputs": [
    {
     "data": {
      "text/html": [
       "<div>\n",
       "<style scoped>\n",
       "    .dataframe tbody tr th:only-of-type {\n",
       "        vertical-align: middle;\n",
       "    }\n",
       "\n",
       "    .dataframe tbody tr th {\n",
       "        vertical-align: top;\n",
       "    }\n",
       "\n",
       "    .dataframe thead th {\n",
       "        text-align: right;\n",
       "    }\n",
       "</style>\n",
       "<table border=\"1\" class=\"dataframe\">\n",
       "  <thead>\n",
       "    <tr style=\"text-align: right;\">\n",
       "      <th></th>\n",
       "      <th>dept_name</th>\n",
       "      <th>gender</th>\n",
       "      <th>no_of_employees</th>\n",
       "    </tr>\n",
       "  </thead>\n",
       "  <tbody>\n",
       "    <tr>\n",
       "      <th>0</th>\n",
       "      <td>Customer Service</td>\n",
       "      <td>F</td>\n",
       "      <td>9448</td>\n",
       "    </tr>\n",
       "    <tr>\n",
       "      <th>1</th>\n",
       "      <td>Customer Service</td>\n",
       "      <td>M</td>\n",
       "      <td>14132</td>\n",
       "    </tr>\n",
       "    <tr>\n",
       "      <th>2</th>\n",
       "      <td>Development</td>\n",
       "      <td>M</td>\n",
       "      <td>51449</td>\n",
       "    </tr>\n",
       "    <tr>\n",
       "      <th>3</th>\n",
       "      <td>Development</td>\n",
       "      <td>F</td>\n",
       "      <td>34258</td>\n",
       "    </tr>\n",
       "    <tr>\n",
       "      <th>4</th>\n",
       "      <td>Finance</td>\n",
       "      <td>F</td>\n",
       "      <td>7015</td>\n",
       "    </tr>\n",
       "    <tr>\n",
       "      <th>5</th>\n",
       "      <td>Finance</td>\n",
       "      <td>M</td>\n",
       "      <td>10331</td>\n",
       "    </tr>\n",
       "    <tr>\n",
       "      <th>6</th>\n",
       "      <td>Human Resources</td>\n",
       "      <td>M</td>\n",
       "      <td>10711</td>\n",
       "    </tr>\n",
       "    <tr>\n",
       "      <th>7</th>\n",
       "      <td>Human Resources</td>\n",
       "      <td>F</td>\n",
       "      <td>7075</td>\n",
       "    </tr>\n",
       "    <tr>\n",
       "      <th>8</th>\n",
       "      <td>Marketing</td>\n",
       "      <td>F</td>\n",
       "      <td>8037</td>\n",
       "    </tr>\n",
       "    <tr>\n",
       "      <th>9</th>\n",
       "      <td>Marketing</td>\n",
       "      <td>M</td>\n",
       "      <td>12174</td>\n",
       "    </tr>\n",
       "    <tr>\n",
       "      <th>10</th>\n",
       "      <td>Production</td>\n",
       "      <td>M</td>\n",
       "      <td>43936</td>\n",
       "    </tr>\n",
       "    <tr>\n",
       "      <th>11</th>\n",
       "      <td>Production</td>\n",
       "      <td>F</td>\n",
       "      <td>29549</td>\n",
       "    </tr>\n",
       "    <tr>\n",
       "      <th>12</th>\n",
       "      <td>Quality Management</td>\n",
       "      <td>F</td>\n",
       "      <td>8078</td>\n",
       "    </tr>\n",
       "    <tr>\n",
       "      <th>13</th>\n",
       "      <td>Quality Management</td>\n",
       "      <td>M</td>\n",
       "      <td>12039</td>\n",
       "    </tr>\n",
       "    <tr>\n",
       "      <th>14</th>\n",
       "      <td>Research</td>\n",
       "      <td>F</td>\n",
       "      <td>8439</td>\n",
       "    </tr>\n",
       "    <tr>\n",
       "      <th>15</th>\n",
       "      <td>Research</td>\n",
       "      <td>M</td>\n",
       "      <td>12687</td>\n",
       "    </tr>\n",
       "    <tr>\n",
       "      <th>16</th>\n",
       "      <td>Sales</td>\n",
       "      <td>F</td>\n",
       "      <td>20854</td>\n",
       "    </tr>\n",
       "    <tr>\n",
       "      <th>17</th>\n",
       "      <td>Sales</td>\n",
       "      <td>M</td>\n",
       "      <td>31391</td>\n",
       "    </tr>\n",
       "  </tbody>\n",
       "</table>\n",
       "</div>"
      ],
      "text/plain": [
       "             dept_name gender  no_of_employees\n",
       "0     Customer Service      F             9448\n",
       "1     Customer Service      M            14132\n",
       "2          Development      M            51449\n",
       "3          Development      F            34258\n",
       "4              Finance      F             7015\n",
       "5              Finance      M            10331\n",
       "6      Human Resources      M            10711\n",
       "7      Human Resources      F             7075\n",
       "8            Marketing      F             8037\n",
       "9            Marketing      M            12174\n",
       "10          Production      M            43936\n",
       "11          Production      F            29549\n",
       "12  Quality Management      F             8078\n",
       "13  Quality Management      M            12039\n",
       "14            Research      F             8439\n",
       "15            Research      M            12687\n",
       "16               Sales      F            20854\n",
       "17               Sales      M            31391"
      ]
     },
     "execution_count": 344,
     "metadata": {},
     "output_type": "execute_result"
    }
   ],
   "source": [
    "df2=pd.read_sql_query(\"\"\"\n",
    "SELECT \n",
    "    d.dept_name, e.gender, COUNT(e.emp_no) AS no_of_employees\n",
    "FROM\n",
    "    employees e\n",
    "        LEFT JOIN\n",
    "    dept_emp de ON e.emp_no = de.emp_no\n",
    "        JOIN\n",
    "    departments d ON de.dept_no = d.dept_no\n",
    "    \n",
    "GROUP BY 1 , 2; \n",
    "\"\"\"\n",
    ",conn)\n",
    "\n",
    "df2"
   ]
  },
  {
   "cell_type": "code",
   "execution_count": 345,
   "metadata": {},
   "outputs": [
    {
     "data": {
      "text/plain": [
       "Text(0.5, 1.0, 'No. of Employees per Department by Gender')"
      ]
     },
     "execution_count": 345,
     "metadata": {},
     "output_type": "execute_result"
    },
    {
     "data": {
      "image/png": "[encoded data removed]",
      "text/plain": [
       "<Figure size 432x288 with 1 Axes>"
      ]
     },
     "metadata": {
      "needs_background": "light"
     },
     "output_type": "display_data"
    }
   ],
   "source": [
    "sns.barplot(data=df2, x='no_of_employees', y='dept_name', hue='gender', palette='pastel', ci = None, orient = 'h').set_title('No. of Employees per Department by Gender')"
   ]
  },
  {
   "cell_type": "code",
   "execution_count": 346,
   "metadata": {},
   "outputs": [
    {
     "data": {
      "text/html": [
       "<div>\n",
       "<style scoped>\n",
       "    .dataframe tbody tr th:only-of-type {\n",
       "        vertical-align: middle;\n",
       "    }\n",
       "\n",
       "    .dataframe tbody tr th {\n",
       "        vertical-align: top;\n",
       "    }\n",
       "\n",
       "    .dataframe thead th {\n",
       "        text-align: right;\n",
       "    }\n",
       "</style>\n",
       "<table border=\"1\" class=\"dataframe\">\n",
       "  <thead>\n",
       "    <tr style=\"text-align: right;\">\n",
       "      <th></th>\n",
       "      <th>gender</th>\n",
       "      <th>no_of_managers</th>\n",
       "    </tr>\n",
       "  </thead>\n",
       "  <tbody>\n",
       "    <tr>\n",
       "      <th>0</th>\n",
       "      <td>M</td>\n",
       "      <td>11</td>\n",
       "    </tr>\n",
       "    <tr>\n",
       "      <th>1</th>\n",
       "      <td>F</td>\n",
       "      <td>13</td>\n",
       "    </tr>\n",
       "  </tbody>\n",
       "</table>\n",
       "</div>"
      ],
      "text/plain": [
       "  gender  no_of_managers\n",
       "0      M              11\n",
       "1      F              13"
      ]
     },
     "execution_count": 346,
     "metadata": {},
     "output_type": "execute_result"
    }
   ],
   "source": [
    "df3=pd.read_sql_query(\"\"\"\n",
    "SELECT \n",
    "    e.gender, COUNT(e.gender) AS no_of_managers\n",
    "FROM\n",
    "    employees e\n",
    "        JOIN\n",
    "    titles t ON e.emp_no = t.emp_no\n",
    "WHERE\n",
    "    t.title = 'manager'\n",
    "GROUP BY 1;\n",
    "\"\"\"\n",
    ",conn)\n",
    "\n",
    "df3"
   ]
  },
  {
   "cell_type": "code",
   "execution_count": 347,
   "metadata": {},
   "outputs": [
    {
     "data": {
      "text/html": [
       "<div>\n",
       "<style scoped>\n",
       "    .dataframe tbody tr th:only-of-type {\n",
       "        vertical-align: middle;\n",
       "    }\n",
       "\n",
       "    .dataframe tbody tr th {\n",
       "        vertical-align: top;\n",
       "    }\n",
       "\n",
       "    .dataframe thead th {\n",
       "        text-align: right;\n",
       "    }\n",
       "</style>\n",
       "<table border=\"1\" class=\"dataframe\">\n",
       "  <thead>\n",
       "    <tr style=\"text-align: right;\">\n",
       "      <th></th>\n",
       "      <th>no_of_managers</th>\n",
       "    </tr>\n",
       "    <tr>\n",
       "      <th>gender</th>\n",
       "      <th></th>\n",
       "    </tr>\n",
       "  </thead>\n",
       "  <tbody>\n",
       "    <tr>\n",
       "      <th>M</th>\n",
       "      <td>11</td>\n",
       "    </tr>\n",
       "    <tr>\n",
       "      <th>F</th>\n",
       "      <td>13</td>\n",
       "    </tr>\n",
       "  </tbody>\n",
       "</table>\n",
       "</div>"
      ],
      "text/plain": [
       "        no_of_managers\n",
       "gender                \n",
       "M                   11\n",
       "F                   13"
      ]
     },
     "execution_count": 347,
     "metadata": {},
     "output_type": "execute_result"
    }
   ],
   "source": [
    "df3.set_index('gender', inplace=True)\n",
    "df3"
   ]
  },
  {
   "cell_type": "code",
   "execution_count": 348,
   "metadata": {},
   "outputs": [
    {
     "data": {
      "text/plain": [
       "Text(0.5, 1.0, 'No. of Male and Female Managers')"
      ]
     },
     "execution_count": 348,
     "metadata": {},
     "output_type": "execute_result"
    },
    {
     "data": {
      "image/png": "[encoded data removed]",
      "text/plain": [
       "<Figure size 360x360 with 1 Axes>"
      ]
     },
     "metadata": {},
     "output_type": "display_data"
    }
   ],
   "source": [
    "df3.plot.pie(y='no_of_managers', figsize=(5, 5)).set_title('No. of Male and Female Managers')"
   ]
  },
  {
   "cell_type": "code",
   "execution_count": 349,
   "metadata": {},
   "outputs": [
    {
     "data": {
      "text/html": [
       "<div>\n",
       "<style scoped>\n",
       "    .dataframe tbody tr th:only-of-type {\n",
       "        vertical-align: middle;\n",
       "    }\n",
       "\n",
       "    .dataframe tbody tr th {\n",
       "        vertical-align: top;\n",
       "    }\n",
       "\n",
       "    .dataframe thead th {\n",
       "        text-align: right;\n",
       "    }\n",
       "</style>\n",
       "<table border=\"1\" class=\"dataframe\">\n",
       "  <thead>\n",
       "    <tr style=\"text-align: right;\">\n",
       "      <th></th>\n",
       "      <th>dept_name</th>\n",
       "      <th>no_of_employees</th>\n",
       "    </tr>\n",
       "  </thead>\n",
       "  <tbody>\n",
       "    <tr>\n",
       "      <th>0</th>\n",
       "      <td>Customer Service</td>\n",
       "      <td>23580</td>\n",
       "    </tr>\n",
       "    <tr>\n",
       "      <th>1</th>\n",
       "      <td>Development</td>\n",
       "      <td>85707</td>\n",
       "    </tr>\n",
       "    <tr>\n",
       "      <th>2</th>\n",
       "      <td>Finance</td>\n",
       "      <td>17346</td>\n",
       "    </tr>\n",
       "    <tr>\n",
       "      <th>3</th>\n",
       "      <td>Human Resources</td>\n",
       "      <td>17786</td>\n",
       "    </tr>\n",
       "    <tr>\n",
       "      <th>4</th>\n",
       "      <td>Marketing</td>\n",
       "      <td>20211</td>\n",
       "    </tr>\n",
       "    <tr>\n",
       "      <th>5</th>\n",
       "      <td>Production</td>\n",
       "      <td>73485</td>\n",
       "    </tr>\n",
       "    <tr>\n",
       "      <th>6</th>\n",
       "      <td>Quality Management</td>\n",
       "      <td>20117</td>\n",
       "    </tr>\n",
       "    <tr>\n",
       "      <th>7</th>\n",
       "      <td>Research</td>\n",
       "      <td>21126</td>\n",
       "    </tr>\n",
       "    <tr>\n",
       "      <th>8</th>\n",
       "      <td>Sales</td>\n",
       "      <td>52245</td>\n",
       "    </tr>\n",
       "  </tbody>\n",
       "</table>\n",
       "</div>"
      ],
      "text/plain": [
       "            dept_name  no_of_employees\n",
       "0    Customer Service            23580\n",
       "1         Development            85707\n",
       "2             Finance            17346\n",
       "3     Human Resources            17786\n",
       "4           Marketing            20211\n",
       "5          Production            73485\n",
       "6  Quality Management            20117\n",
       "7            Research            21126\n",
       "8               Sales            52245"
      ]
     },
     "execution_count": 349,
     "metadata": {},
     "output_type": "execute_result"
    }
   ],
   "source": [
    "df4=pd.read_sql_query(\"\"\"\n",
    "SELECT DISTINCT\n",
    "    d.dept_name, COUNT(e.emp_no) AS no_of_employees\n",
    "FROM\n",
    "    employees e\n",
    "        LEFT JOIN\n",
    "    dept_emp de ON e.emp_no = de.emp_no\n",
    "        JOIN\n",
    "    departments d ON de.dept_no = d.dept_no\n",
    "GROUP BY 1;\n",
    "\"\"\"\n",
    ",conn)\n",
    "\n",
    "df4"
   ]
  },
  {
   "cell_type": "code",
   "execution_count": 350,
   "metadata": {},
   "outputs": [
    {
     "data": {
      "text/plain": [
       "Text(0.5, 1.0, 'No. of Employees per Department')"
      ]
     },
     "execution_count": 350,
     "metadata": {},
     "output_type": "execute_result"
    },
    {
     "data": {
      "image/png": "[encoded data removed]",
      "text/plain": [
       "<Figure size 432x288 with 1 Axes>"
      ]
     },
     "metadata": {
      "needs_background": "light"
     },
     "output_type": "display_data"
    }
   ],
   "source": [
    "sns.barplot(data=df4, x='no_of_employees', y='dept_name', palette='pastel', ci = None, orient = 'h').set_title('No. of Employees per Department')"
   ]
  },
  {
   "cell_type": "code",
   "execution_count": 351,
   "metadata": {},
   "outputs": [
    {
     "data": {
      "text/html": [
       "<div>\n",
       "<style scoped>\n",
       "    .dataframe tbody tr th:only-of-type {\n",
       "        vertical-align: middle;\n",
       "    }\n",
       "\n",
       "    .dataframe tbody tr th {\n",
       "        vertical-align: top;\n",
       "    }\n",
       "\n",
       "    .dataframe thead th {\n",
       "        text-align: right;\n",
       "    }\n",
       "</style>\n",
       "<table border=\"1\" class=\"dataframe\">\n",
       "  <thead>\n",
       "    <tr style=\"text-align: right;\">\n",
       "      <th></th>\n",
       "      <th>dept_name</th>\n",
       "      <th>title</th>\n",
       "      <th>no_of_managers</th>\n",
       "      <th>average_salary</th>\n",
       "    </tr>\n",
       "  </thead>\n",
       "  <tbody>\n",
       "    <tr>\n",
       "      <th>0</th>\n",
       "      <td>Customer Service</td>\n",
       "      <td>Manager</td>\n",
       "      <td>4</td>\n",
       "      <td>54960.0</td>\n",
       "    </tr>\n",
       "    <tr>\n",
       "      <th>1</th>\n",
       "      <td>Development</td>\n",
       "      <td>Manager</td>\n",
       "      <td>2</td>\n",
       "      <td>59658.0</td>\n",
       "    </tr>\n",
       "    <tr>\n",
       "      <th>2</th>\n",
       "      <td>Finance</td>\n",
       "      <td>Manager</td>\n",
       "      <td>2</td>\n",
       "      <td>70816.0</td>\n",
       "    </tr>\n",
       "    <tr>\n",
       "      <th>3</th>\n",
       "      <td>Human Resources</td>\n",
       "      <td>Manager</td>\n",
       "      <td>2</td>\n",
       "      <td>58286.0</td>\n",
       "    </tr>\n",
       "    <tr>\n",
       "      <th>4</th>\n",
       "      <td>Marketing</td>\n",
       "      <td>Manager</td>\n",
       "      <td>2</td>\n",
       "      <td>88372.0</td>\n",
       "    </tr>\n",
       "    <tr>\n",
       "      <th>5</th>\n",
       "      <td>Production</td>\n",
       "      <td>Manager</td>\n",
       "      <td>4</td>\n",
       "      <td>56233.0</td>\n",
       "    </tr>\n",
       "    <tr>\n",
       "      <th>6</th>\n",
       "      <td>Quality Management</td>\n",
       "      <td>Manager</td>\n",
       "      <td>4</td>\n",
       "      <td>67131.0</td>\n",
       "    </tr>\n",
       "    <tr>\n",
       "      <th>7</th>\n",
       "      <td>Research</td>\n",
       "      <td>Manager</td>\n",
       "      <td>2</td>\n",
       "      <td>77535.0</td>\n",
       "    </tr>\n",
       "    <tr>\n",
       "      <th>8</th>\n",
       "      <td>Sales</td>\n",
       "      <td>Manager</td>\n",
       "      <td>2</td>\n",
       "      <td>85739.0</td>\n",
       "    </tr>\n",
       "  </tbody>\n",
       "</table>\n",
       "</div>"
      ],
      "text/plain": [
       "            dept_name    title  no_of_managers  average_salary\n",
       "0    Customer Service  Manager               4         54960.0\n",
       "1         Development  Manager               2         59658.0\n",
       "2             Finance  Manager               2         70816.0\n",
       "3     Human Resources  Manager               2         58286.0\n",
       "4           Marketing  Manager               2         88372.0\n",
       "5          Production  Manager               4         56233.0\n",
       "6  Quality Management  Manager               4         67131.0\n",
       "7            Research  Manager               2         77535.0\n",
       "8               Sales  Manager               2         85739.0"
      ]
     },
     "execution_count": 351,
     "metadata": {},
     "output_type": "execute_result"
    }
   ],
   "source": [
    "df5=pd.read_sql_query(\"\"\"\n",
    "SELECT \n",
    "    d.dept_name,\n",
    "    t.title,\n",
    "    COUNT(DISTINCT t.emp_no) AS no_of_managers,\n",
    "    ROUND(AVG(s.salary), 0) AS average_salary\n",
    "FROM\n",
    "    titles t\n",
    "        JOIN\n",
    "    employees e ON t.emp_no = e.emp_no\n",
    "        JOIN\n",
    "    salaries s ON t.emp_no = s.emp_no\n",
    "        JOIN\n",
    "    dept_emp de ON t.emp_no = de.emp_no\n",
    "        JOIN\n",
    "    departments d ON de.dept_no = d.dept_no\n",
    "WHERE\n",
    "    t.title = 'Manager'\n",
    "GROUP BY 1 , 2;\n",
    "\"\"\"\n",
    ",conn)\n",
    "\n",
    "df5"
   ]
  },
  {
   "cell_type": "code",
   "execution_count": 352,
   "metadata": {},
   "outputs": [
    {
     "data": {
      "text/plain": [
       "Text(0.5, 1.0, \"Managers' Average Salary by Department\")"
      ]
     },
     "execution_count": 352,
     "metadata": {},
     "output_type": "execute_result"
    },
    {
     "data": {
      "image/png": "[encoded data removed]",
      "text/plain": [
       "<Figure size 432x288 with 1 Axes>"
      ]
     },
     "metadata": {
      "needs_background": "light"
     },
     "output_type": "display_data"
    }
   ],
   "source": [
    "sns.barplot(data=df5, x='average_salary', y='dept_name', palette='pastel', ci = None, orient = 'h').set_title('Managers\\' Average Salary by Department')"
   ]
  },
  {
   "cell_type": "code",
   "execution_count": 353,
   "metadata": {},
   "outputs": [
    {
     "data": {
      "text/html": [
       "<div>\n",
       "<style scoped>\n",
       "    .dataframe tbody tr th:only-of-type {\n",
       "        vertical-align: middle;\n",
       "    }\n",
       "\n",
       "    .dataframe tbody tr th {\n",
       "        vertical-align: top;\n",
       "    }\n",
       "\n",
       "    .dataframe thead th {\n",
       "        text-align: right;\n",
       "    }\n",
       "</style>\n",
       "<table border=\"1\" class=\"dataframe\">\n",
       "  <thead>\n",
       "    <tr style=\"text-align: right;\">\n",
       "      <th></th>\n",
       "      <th>salary_group</th>\n",
       "      <th>count</th>\n",
       "    </tr>\n",
       "  </thead>\n",
       "  <tbody>\n",
       "    <tr>\n",
       "      <th>0</th>\n",
       "      <td>50,000 to 70,000</td>\n",
       "      <td>427970</td>\n",
       "    </tr>\n",
       "    <tr>\n",
       "      <th>1</th>\n",
       "      <td>70,000 to 90,000</td>\n",
       "      <td>228001</td>\n",
       "    </tr>\n",
       "    <tr>\n",
       "      <th>2</th>\n",
       "      <td>90,000 to 110,000</td>\n",
       "      <td>68469</td>\n",
       "    </tr>\n",
       "    <tr>\n",
       "      <th>3</th>\n",
       "      <td>&lt; 50,000</td>\n",
       "      <td>231911</td>\n",
       "    </tr>\n",
       "    <tr>\n",
       "      <th>4</th>\n",
       "      <td>more than 110,000</td>\n",
       "      <td>10979</td>\n",
       "    </tr>\n",
       "  </tbody>\n",
       "</table>\n",
       "</div>"
      ],
      "text/plain": [
       "        salary_group   count\n",
       "0   50,000 to 70,000  427970\n",
       "1   70,000 to 90,000  228001\n",
       "2  90,000 to 110,000   68469\n",
       "3           < 50,000  231911\n",
       "4  more than 110,000   10979"
      ]
     },
     "execution_count": 353,
     "metadata": {},
     "output_type": "execute_result"
    }
   ],
   "source": [
    "df6=pd.read_sql_query(\"\"\"\n",
    "SELECT \n",
    "    s.salary_group, COUNT(*) AS count\n",
    "FROM\n",
    "    (SELECT \n",
    "        CASE\n",
    "                WHEN salary < 50000 THEN '< 50,000'\n",
    "                WHEN salary BETWEEN 50000 AND 70000 THEN '50,000 to 70,000'\n",
    "                WHEN salary BETWEEN 70000 AND 90000 THEN '70,000 to 90,000'\n",
    "                WHEN salary BETWEEN 90000 AND 110000 THEN '90,000 to 110,000'\n",
    "                ELSE 'more than 110,000'\n",
    "            END AS salary_group\n",
    "    FROM\n",
    "        salaries) s\n",
    "GROUP BY s.salary_group\n",
    "order by s.salary_group;\n",
    "\"\"\"\n",
    ",conn)\n",
    "\n",
    "df6"
   ]
  },
  {
   "cell_type": "code",
   "execution_count": 354,
   "metadata": {},
   "outputs": [
    {
     "data": {
      "text/plain": [
       "Text(0.5, 1.0, 'Salaries Distribution')"
      ]
     },
     "execution_count": 354,
     "metadata": {},
     "output_type": "execute_result"
    },
    {
     "data": {
      "image/png": "[encoded data removed]",
      "text/plain": [
       "<Figure size 432x288 with 1 Axes>"
      ]
     },
     "metadata": {
      "needs_background": "light"
     },
     "output_type": "display_data"
    }
   ],
   "source": [
    "sns.barplot(data=df6, x='count', y='salary_group', palette='pastel', ci = None, orient = 'h').set_title('Salaries Distribution')"
   ]
  },
  {
   "cell_type": "code",
   "execution_count": 355,
   "metadata": {},
   "outputs": [
    {
     "data": {
      "text/html": [
       "<div>\n",
       "<style scoped>\n",
       "    .dataframe tbody tr th:only-of-type {\n",
       "        vertical-align: middle;\n",
       "    }\n",
       "\n",
       "    .dataframe tbody tr th {\n",
       "        vertical-align: top;\n",
       "    }\n",
       "\n",
       "    .dataframe thead th {\n",
       "        text-align: right;\n",
       "    }\n",
       "</style>\n",
       "<table border=\"1\" class=\"dataframe\">\n",
       "  <thead>\n",
       "    <tr style=\"text-align: right;\">\n",
       "      <th></th>\n",
       "      <th>dept_name</th>\n",
       "      <th>title</th>\n",
       "      <th>max_salary</th>\n",
       "      <th>min_salary</th>\n",
       "      <th>difference</th>\n",
       "    </tr>\n",
       "  </thead>\n",
       "  <tbody>\n",
       "    <tr>\n",
       "      <th>0</th>\n",
       "      <td>Development</td>\n",
       "      <td>Technique Leader</td>\n",
       "      <td>74510</td>\n",
       "      <td>40000</td>\n",
       "      <td>34510</td>\n",
       "    </tr>\n",
       "    <tr>\n",
       "      <th>1</th>\n",
       "      <td>Production</td>\n",
       "      <td>Technique Leader</td>\n",
       "      <td>75121</td>\n",
       "      <td>40000</td>\n",
       "      <td>35121</td>\n",
       "    </tr>\n",
       "    <tr>\n",
       "      <th>2</th>\n",
       "      <td>Quality Management</td>\n",
       "      <td>Technique Leader</td>\n",
       "      <td>93193</td>\n",
       "      <td>40055</td>\n",
       "      <td>53138</td>\n",
       "    </tr>\n",
       "    <tr>\n",
       "      <th>3</th>\n",
       "      <td>Customer Service</td>\n",
       "      <td>Staff</td>\n",
       "      <td>73953</td>\n",
       "      <td>40000</td>\n",
       "      <td>33953</td>\n",
       "    </tr>\n",
       "    <tr>\n",
       "      <th>4</th>\n",
       "      <td>Human Resources</td>\n",
       "      <td>Staff</td>\n",
       "      <td>79229</td>\n",
       "      <td>48291</td>\n",
       "      <td>30938</td>\n",
       "    </tr>\n",
       "    <tr>\n",
       "      <th>5</th>\n",
       "      <td>Research</td>\n",
       "      <td>Staff</td>\n",
       "      <td>103244</td>\n",
       "      <td>72446</td>\n",
       "      <td>30798</td>\n",
       "    </tr>\n",
       "    <tr>\n",
       "      <th>6</th>\n",
       "      <td>Sales</td>\n",
       "      <td>Staff</td>\n",
       "      <td>101987</td>\n",
       "      <td>70787</td>\n",
       "      <td>31200</td>\n",
       "    </tr>\n",
       "    <tr>\n",
       "      <th>7</th>\n",
       "      <td>Customer Service</td>\n",
       "      <td>Senior Staff</td>\n",
       "      <td>71406</td>\n",
       "      <td>40000</td>\n",
       "      <td>31406</td>\n",
       "    </tr>\n",
       "    <tr>\n",
       "      <th>8</th>\n",
       "      <td>Finance</td>\n",
       "      <td>Senior Staff</td>\n",
       "      <td>88443</td>\n",
       "      <td>52070</td>\n",
       "      <td>36373</td>\n",
       "    </tr>\n",
       "    <tr>\n",
       "      <th>9</th>\n",
       "      <td>Human Resources</td>\n",
       "      <td>Senior Staff</td>\n",
       "      <td>65400</td>\n",
       "      <td>40000</td>\n",
       "      <td>25400</td>\n",
       "    </tr>\n",
       "    <tr>\n",
       "      <th>10</th>\n",
       "      <td>Marketing</td>\n",
       "      <td>Senior Staff</td>\n",
       "      <td>108407</td>\n",
       "      <td>69941</td>\n",
       "      <td>38466</td>\n",
       "    </tr>\n",
       "    <tr>\n",
       "      <th>11</th>\n",
       "      <td>Research</td>\n",
       "      <td>Senior Staff</td>\n",
       "      <td>79393</td>\n",
       "      <td>48077</td>\n",
       "      <td>31316</td>\n",
       "    </tr>\n",
       "    <tr>\n",
       "      <th>12</th>\n",
       "      <td>Production</td>\n",
       "      <td>Senior Engineer</td>\n",
       "      <td>75121</td>\n",
       "      <td>40000</td>\n",
       "      <td>35121</td>\n",
       "    </tr>\n",
       "    <tr>\n",
       "      <th>13</th>\n",
       "      <td>Quality Management</td>\n",
       "      <td>Senior Engineer</td>\n",
       "      <td>77626</td>\n",
       "      <td>50457</td>\n",
       "      <td>27169</td>\n",
       "    </tr>\n",
       "    <tr>\n",
       "      <th>14</th>\n",
       "      <td>Customer Service</td>\n",
       "      <td>Manager</td>\n",
       "      <td>73953</td>\n",
       "      <td>40000</td>\n",
       "      <td>33953</td>\n",
       "    </tr>\n",
       "    <tr>\n",
       "      <th>15</th>\n",
       "      <td>Development</td>\n",
       "      <td>Manager</td>\n",
       "      <td>74510</td>\n",
       "      <td>40000</td>\n",
       "      <td>34510</td>\n",
       "    </tr>\n",
       "    <tr>\n",
       "      <th>16</th>\n",
       "      <td>Finance</td>\n",
       "      <td>Manager</td>\n",
       "      <td>88443</td>\n",
       "      <td>52070</td>\n",
       "      <td>36373</td>\n",
       "    </tr>\n",
       "    <tr>\n",
       "      <th>17</th>\n",
       "      <td>Human Resources</td>\n",
       "      <td>Manager</td>\n",
       "      <td>79229</td>\n",
       "      <td>40000</td>\n",
       "      <td>39229</td>\n",
       "    </tr>\n",
       "    <tr>\n",
       "      <th>18</th>\n",
       "      <td>Marketing</td>\n",
       "      <td>Manager</td>\n",
       "      <td>108407</td>\n",
       "      <td>69941</td>\n",
       "      <td>38466</td>\n",
       "    </tr>\n",
       "    <tr>\n",
       "      <th>19</th>\n",
       "      <td>Production</td>\n",
       "      <td>Manager</td>\n",
       "      <td>75121</td>\n",
       "      <td>40000</td>\n",
       "      <td>35121</td>\n",
       "    </tr>\n",
       "    <tr>\n",
       "      <th>20</th>\n",
       "      <td>Quality Management</td>\n",
       "      <td>Manager</td>\n",
       "      <td>93193</td>\n",
       "      <td>40055</td>\n",
       "      <td>53138</td>\n",
       "    </tr>\n",
       "    <tr>\n",
       "      <th>21</th>\n",
       "      <td>Research</td>\n",
       "      <td>Manager</td>\n",
       "      <td>103244</td>\n",
       "      <td>48077</td>\n",
       "      <td>55167</td>\n",
       "    </tr>\n",
       "    <tr>\n",
       "      <th>22</th>\n",
       "      <td>Sales</td>\n",
       "      <td>Manager</td>\n",
       "      <td>101987</td>\n",
       "      <td>70787</td>\n",
       "      <td>31200</td>\n",
       "    </tr>\n",
       "  </tbody>\n",
       "</table>\n",
       "</div>"
      ],
      "text/plain": [
       "             dept_name             title  max_salary  min_salary  difference\n",
       "0          Development  Technique Leader       74510       40000       34510\n",
       "1           Production  Technique Leader       75121       40000       35121\n",
       "2   Quality Management  Technique Leader       93193       40055       53138\n",
       "3     Customer Service             Staff       73953       40000       33953\n",
       "4      Human Resources             Staff       79229       48291       30938\n",
       "5             Research             Staff      103244       72446       30798\n",
       "6                Sales             Staff      101987       70787       31200\n",
       "7     Customer Service      Senior Staff       71406       40000       31406\n",
       "8              Finance      Senior Staff       88443       52070       36373\n",
       "9      Human Resources      Senior Staff       65400       40000       25400\n",
       "10           Marketing      Senior Staff      108407       69941       38466\n",
       "11            Research      Senior Staff       79393       48077       31316\n",
       "12          Production   Senior Engineer       75121       40000       35121\n",
       "13  Quality Management   Senior Engineer       77626       50457       27169\n",
       "14    Customer Service           Manager       73953       40000       33953\n",
       "15         Development           Manager       74510       40000       34510\n",
       "16             Finance           Manager       88443       52070       36373\n",
       "17     Human Resources           Manager       79229       40000       39229\n",
       "18           Marketing           Manager      108407       69941       38466\n",
       "19          Production           Manager       75121       40000       35121\n",
       "20  Quality Management           Manager       93193       40055       53138\n",
       "21            Research           Manager      103244       48077       55167\n",
       "22               Sales           Manager      101987       70787       31200"
      ]
     },
     "execution_count": 355,
     "metadata": {},
     "output_type": "execute_result"
    }
   ],
   "source": [
    "df7=pd.read_sql_query(\"\"\"\n",
    "SELECT \n",
    "    d.dept_name,\n",
    "    t.title,\n",
    "    MAX(s.salary) AS max_salary,\n",
    "    MIN(s.salary) AS min_salary,\n",
    "    (MAX(s.salary) - MIN(s.salary)) AS difference\n",
    "FROM\n",
    "    employees e\n",
    "        JOIN\n",
    "    titles t ON e.emp_no = t.emp_no\n",
    "        JOIN\n",
    "    salaries s ON e.emp_no = s.emp_no\n",
    "        JOIN\n",
    "    dept_manager dm ON e.emp_no = dm.emp_no\n",
    "        JOIN\n",
    "    departments d ON dm.dept_no = d.dept_no\n",
    "GROUP BY 1,2\n",
    "ORDER BY 2 DESC;\n",
    "\"\"\"\n",
    ",conn)\n",
    "\n",
    "df7"
   ]
  },
  {
   "cell_type": "code",
   "execution_count": 367,
   "metadata": {},
   "outputs": [
    {
     "data": {
      "text/plain": [
       "<matplotlib.legend.Legend at 0x18cd2522a90>"
      ]
     },
     "execution_count": 367,
     "metadata": {},
     "output_type": "execute_result"
    },
    {
     "data": {
      "image/png": "[encoded data removed]",
      "text/plain": [
       "<Figure size 432x288 with 1 Axes>"
      ]
     },
     "metadata": {
      "needs_background": "light"
     },
     "output_type": "display_data"
    }
   ],
   "source": [
    "mean_diff = df7.groupby('title').mean()['difference'].round(2)\n",
    "mean_diff.to_frame().plot.barh().legend(loc='best')"
   ]
  },
  {
   "cell_type": "code",
   "execution_count": 361,
   "metadata": {},
   "outputs": [
    {
     "data": {
      "text/plain": [
       "<AxesSubplot:ylabel='dept_name'>"
      ]
     },
     "execution_count": 361,
     "metadata": {},
     "output_type": "execute_result"
    },
    {
     "data": {
      "image/png": "[encoded data removed]",
      "text/plain": [
       "<Figure size 432x288 with 1 Axes>"
      ]
     },
     "metadata": {
      "needs_background": "light"
     },
     "output_type": "display_data"
    }
   ],
   "source": [
    "max = df7.groupby('dept_name').max()['max_salary'].round(2)\n",
    "max.to_frame().plot.barh()"
   ]
  },
  {
   "cell_type": "code",
   "execution_count": 360,
   "metadata": {},
   "outputs": [
    {
     "data": {
      "text/plain": [
       "<AxesSubplot:ylabel='dept_name'>"
      ]
     },
     "execution_count": 360,
     "metadata": {},
     "output_type": "execute_result"
    },
    {
     "data": {
      "image/png": "[encoded data removed]",
      "text/plain": [
       "<Figure size 432x288 with 1 Axes>"
      ]
     },
     "metadata": {
      "needs_background": "light"
     },
     "output_type": "display_data"
    }
   ],
   "source": [
    "min = df7.groupby('dept_name').min()['min_salary'].round(2)\n",
    "min.to_frame().plot.barh()"
   ]
  },
  {
   "cell_type": "code",
   "execution_count": 359,
   "metadata": {},
   "outputs": [
    {
     "data": {
      "text/plain": [
       "Text(0.5, 1.0, 'Salary Difference by Title')"
      ]
     },
     "execution_count": 359,
     "metadata": {},
     "output_type": "execute_result"
    },
    {
     "data": {
      "image/png": "[encoded data removed]",
      "text/plain": [
       "<Figure size 432x288 with 1 Axes>"
      ]
     },
     "metadata": {
      "needs_background": "light"
     },
     "output_type": "display_data"
    }
   ],
   "source": [
    "sns.barplot(data=df7, x='difference', y='title', palette='pastel', ci = None, orient = 'h').set_title('Salary Difference by Title')"
   ]
  },
  {
   "cell_type": "code",
   "execution_count": null,
   "metadata": {},
   "outputs": [],
   "source": []
  },
  {
   "cell_type": "code",
   "execution_count": null,
   "metadata": {},
   "outputs": [],
   "source": []
  }
 ],
 "metadata": {
  "kernelspec": {
   "display_name": "Python 3.9.7 ('base')",
   "language": "python",
   "name": "python3"
  },
  "language_info": {
   "codemirror_mode": {
    "name": "ipython",
    "version": 3
   },
   "file_extension": ".py",
   "mimetype": "text/x-python",
   "name": "python",
   "nbconvert_exporter": "python",
   "pygments_lexer": "ipython3",
   "version": "3.9.7"
  },
  "orig_nbformat": 4,
  "vscode": {
   "interpreter": {
    "hash": "d98543b451f0d030becf8aab43dd80b7db0e00cd39be7ef90db9ab0898efd651"
   }
  }
 },
 "nbformat": 4,
 "nbformat_minor": 2
}
